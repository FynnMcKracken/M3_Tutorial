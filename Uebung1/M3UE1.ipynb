{
 "cells": [
  {
   "cell_type": "code",
   "execution_count": 2,
   "metadata": {},
   "outputs": [],
   "source": [
    "def countGaussianIntegers(n):\n",
    "    c = 0\n",
    "    for i in range(n+1):\n",
    "        for j in range(n):\n",
    "            if (i**2 + j**2) == n:\n",
    "                c = c+1\n",
    "    return c*4"
   ]
  },
  {
   "cell_type": "code",
   "execution_count": 3,
   "metadata": {},
   "outputs": [
    {
     "name": "stdout",
     "output_type": "stream",
     "text": [
      "0\n",
      "4\n",
      "4\n",
      "0\n",
      "8\n",
      "8\n",
      "0\n",
      "0\n",
      "4\n",
      "8\n"
     ]
    }
   ],
   "source": [
    "for l in range(10):\n",
    "    print(countGaussianIntegers(l))"
   ]
  },
  {
   "cell_type": "code",
   "execution_count": 4,
   "metadata": {},
   "outputs": [],
   "source": [
    "from sympy import sieve"
   ]
  },
  {
   "cell_type": "code",
   "execution_count": 5,
   "metadata": {},
   "outputs": [],
   "source": [
    "%matplotlib inline\n",
    "import matplotlib.pyplot as plt"
   ]
  },
  {
   "cell_type": "code",
   "execution_count": 9,
   "metadata": {},
   "outputs": [
    {
     "data": {
      "text/plain": [
       "[<matplotlib.lines.Line2D at 0x107182f60>]"
      ]
     },
     "execution_count": 9,
     "metadata": {},
     "output_type": "execute_result"
    },
    {
     "data": {
      "image/png": "[encoded data removed]",
      "text/plain": [
       "<matplotlib.figure.Figure at 0x103f66cc0>"
      ]
     },
     "metadata": {},
     "output_type": "display_data"
    }
   ],
   "source": [
    "X = [p for p in sieve.primerange(3,80) if countGaussianIntegers(p) == 8]\n",
    "Y = [3 for i in range(len(X))]\n",
    "plt.plot(X, Y, 'go')"
   ]
  },
  {
   "cell_type": "code",
   "execution_count": 58,
   "metadata": {},
   "outputs": [
    {
     "name": "stdout",
     "output_type": "stream",
     "text": [
      "3 : 0\n",
      "5 : 8\n",
      "7 : 0\n",
      "11 : 0\n",
      "13 : 8\n",
      "17 : 8\n",
      "19 : 0\n",
      "23 : 0\n",
      "29 : 8\n",
      "31 : 0\n",
      "37 : 8\n",
      "41 : 8\n",
      "43 : 0\n",
      "47 : 0\n",
      "53 : 8\n",
      "59 : 0\n",
      "61 : 8\n",
      "67 : 0\n",
      "71 : 0\n",
      "73 : 8\n",
      "79 : 0\n",
      "83 : 0\n",
      "89 : 8\n",
      "97 : 8\n",
      "101 : 8\n",
      "103 : 0\n",
      "107 : 0\n",
      "109 : 8\n",
      "113 : 8\n",
      "127 : 0\n",
      "131 : 0\n",
      "137 : 8\n",
      "139 : 0\n",
      "149 : 8\n",
      "151 : 0\n",
      "157 : 8\n",
      "163 : 0\n",
      "167 : 0\n",
      "173 : 8\n",
      "179 : 0\n",
      "181 : 8\n",
      "191 : 0\n",
      "193 : 8\n",
      "197 : 8\n",
      "199 : 0\n",
      "211 : 0\n",
      "223 : 0\n",
      "227 : 0\n",
      "229 : 8\n",
      "233 : 8\n",
      "239 : 0\n",
      "241 : 8\n",
      "251 : 0\n",
      "257 : 8\n",
      "263 : 0\n",
      "269 : 8\n",
      "271 : 0\n",
      "277 : 8\n",
      "281 : 8\n",
      "283 : 0\n",
      "293 : 8\n",
      "307 : 0\n",
      "311 : 0\n",
      "313 : 8\n",
      "317 : 8\n",
      "331 : 0\n",
      "337 : 8\n",
      "347 : 0\n",
      "349 : 8\n",
      "353 : 8\n",
      "359 : 0\n",
      "367 : 0\n",
      "373 : 8\n",
      "379 : 0\n",
      "383 : 0\n",
      "389 : 8\n",
      "397 : 8\n",
      "401 : 8\n",
      "409 : 8\n",
      "419 : 0\n",
      "421 : 8\n",
      "431 : 0\n",
      "433 : 8\n",
      "439 : 0\n",
      "443 : 0\n",
      "449 : 8\n",
      "457 : 8\n",
      "461 : 8\n",
      "463 : 0\n",
      "467 : 0\n",
      "479 : 0\n",
      "487 : 0\n",
      "491 : 0\n",
      "499 : 0\n"
     ]
    }
   ],
   "source": [
    "for p in sieve.primerange(3,500):\n",
    "    print(\"%s : %s\" % (p, countGaussianIntegers(p)))"
   ]
  },
  {
   "cell_type": "code",
   "execution_count": null,
   "metadata": {},
   "outputs": [],
   "source": []
  },
  {
   "cell_type": "code",
   "execution_count": null,
   "metadata": {},
   "outputs": [],
   "source": []
  }
 ],
 "metadata": {
  "kernelspec": {
   "display_name": "Python 3",
   "language": "python",
   "name": "python3"
  },
  "language_info": {
   "codemirror_mode": {
    "name": "ipython",
    "version": 3
   },
   "file_extension": ".py",
   "mimetype": "text/x-python",
   "name": "python",
   "nbconvert_exporter": "python",
   "pygments_lexer": "ipython3",
   "version": "3.6.2"
  }
 },
 "nbformat": 4,
 "nbformat_minor": 2
}
