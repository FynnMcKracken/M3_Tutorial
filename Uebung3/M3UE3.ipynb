{
 "cells": [
  {
   "cell_type": "code",
   "execution_count": 40,
   "metadata": {},
   "outputs": [],
   "source": [
    "from math import *\n",
    "from random import uniform\n",
    "def integral(f, a, b, n):\n",
    "    M = 0;\n",
    "    for i in range(ceil(sqrt(n))):\n",
    "        M = max(M,f(uniform(a,b)))\n",
    "    M = M * 1.1\n",
    "    \n",
    "    c = 0\n",
    "    for i in range(n):\n",
    "        x = uniform(a,b)\n",
    "        y = uniform(0,M)\n",
    "        if (f(x) > y):\n",
    "            c = c+1\n",
    "    return (b-a)*M*(c/n)"
   ]
  },
  {
   "cell_type": "code",
   "execution_count": 41,
   "metadata": {},
   "outputs": [
    {
     "data": {
      "text/plain": [
       "1.9948148387101947"
      ]
     },
     "execution_count": 41,
     "metadata": {},
     "output_type": "execute_result"
    }
   ],
   "source": [
    "integral(sin, 0, pi, 200000)"
   ]
  },
  {
   "cell_type": "code",
   "execution_count": null,
   "metadata": {},
   "outputs": [],
   "source": []
  }
 ],
 "metadata": {
  "kernelspec": {
   "display_name": "Python 3",
   "language": "python",
   "name": "python3"
  },
  "language_info": {
   "codemirror_mode": {
    "name": "ipython",
    "version": 3
   },
   "file_extension": ".py",
   "mimetype": "text/x-python",
   "name": "python",
   "nbconvert_exporter": "python",
   "pygments_lexer": "ipython3",
   "version": "3.6.2"
  }
 },
 "nbformat": 4,
 "nbformat_minor": 2
}
